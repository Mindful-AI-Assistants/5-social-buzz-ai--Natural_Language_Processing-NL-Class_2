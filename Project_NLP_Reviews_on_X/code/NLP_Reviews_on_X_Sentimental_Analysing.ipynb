{
  "cells": [
    {
      "cell_type": "markdown",
      "metadata": {
        "id": "sOoMqSKnhJJV"
      },
      "source": [
        "\n",
        "### 🇬🇧 Project Statement\n",
        "\n",
        "**Sentiment Analysis with Naive-Bayes and N-grams**\n",
        "\n",
        "Deliverable\n",
        "`.ipynb` file with all cells already executed\n",
        "Modality\n",
        "Individual\n",
        "\n",
        "Objective\n",
        "Build and evaluate a Machine Learning model (Multinomial Naive-Bayes) to classify reviews into three sentiment categories: Negative (0), Neutral (1), and Positive (2).\n",
        "\n",
        "Dataset\n",
        "\n",
        "- File: `B2W-Reviews01.csv`\n",
        "\n",
        "Notebook Workflow (9 Steps)\n",
        "Your notebook should be clear, well documented (using Markdown), and run sequentially.\n",
        "\n",
        "\n",
        "| Section | Instructions \\& Requirements |\n",
        "| :-- | :-- |\n",
        "| 1 Preparation | Import the necessary libraries (pandas, nltk, sklearn, seaborn, matplotlib). Download NLTK resources (punkt, stopwords). |\n",
        "| 2 Loading \\& Cleaning | Load the DataFrame (review_text, overall_rating). Remove rows with null values (dropna()). Show total remaining reviews. |\n",
        "| 3 Class Definition | Create the mapping function: 1 → 0 (Negative), 2, 3, 4 → 1 (Neutral), 5 → 2 (Positive). Apply and display the new class distribution. |\n",
        "| 4 Pre-processing (NLP) | Create and apply preprocessText function: remove punctuation, convert to lowercase, tokenize, remove stopwords (Portuguese) and digits. Generate the texto_pre column. |\n",
        "| 5 N-gram Vectorization | Instantiate CountVectorizer with ngram_range=(1,3). Fit/transform texto_pre to create the X feature matrix. Print X.shape. |\n",
        "| 6 Data Split | Use train_test_split (20% for test, random_state=42) to split data. Print the shapes of train and test sets. |\n",
        "| 7 Naive-Bayes Training | Instantiate and train (fit) the MultinomialNB() model. Print train and test accuracy. |\n",
        "| 8 Complete Evaluation | Generate classification_report. Plot confusion_matrix as a heatmap (seaborn) to visualize class performance. |\n",
        "| 9 Manual Test (Demo) | Create and run an interactive function (input()) that processes user text, vectorizes, predicts the class, and displays the final result with confidence level (predict_proba). |\n",
        "\n",
        "**Focus on Assessment (Creativity and Documentation)**\n",
        "\n",
        "- Documentation: Each section should have a brief Markdown header explaining the purpose of the step.\n",
        "- Analysis: Include comments (in Markdown or code) about lost data volume (Step 2), class balancing (Step 3), and interpretation of classification_report (Step 8).\n",
        "- Creative Test: Create 5 distinct example sentences to demonstrate model operation and limits in Step 9.\n",
        "\n",
        "---\n",
        "\n",
        "### 🇧🇷  Enunciado do Projeto\n",
        "\n",
        "**Análise de Sentimento com Naive-Bayes e N-grams**\n",
        "\n",
        "Entrega\n",
        "Arquivo `.ipynb` com células já executadas\n",
        "Modalidade\n",
        "Individual\n",
        "\n",
        "Objetivo\n",
        "Construir e avaliar um modelo de Machine Learning (Naive-Bayes Multinomial) para classificar reviews em três categorias de sentimento: Negativo (0), Neutro (1) e Positivo (2).\n",
        "\n",
        "Dataset\n",
        "\n",
        "- Arquivo: `B2W-Reviews01.csv`\n",
        "\n",
        "Roteiro do Notebook (9 Etapas)\n",
        "Seu notebook deve ser claro, bem documentado (usando Markdown) e rodar sequencialmente.\n",
        "\n",
        "\n",
        "| Seção | Instruções e Requisitos |\n",
        "| :-- | :-- |\n",
        "| 1 Preparação do Ambiente | Importar as bibliotecas necessárias (pandas, nltk, sklearn, seaborn, matplotlib). Baixar recursos NLTK (punkt, stopwords). |\n",
        "| 2 Carregamento e Limpeza | Carregar o DataFrame (review_text, overall_rating). Remover linhas com valores nulos (dropna()). Exibir o total de reviews restantes. |\n",
        "| 3 Definição das Classes | Criar a função de mapeamento de notas para 3 classes: 1 → 0 (Negativo), 2, 3, 4 → 1 (Neutro), 5 → 2 (Positivo). Aplicar e exibir a distribuição das novas classes. |\n",
        "| 4 Pré-processamento (NLP) | Criar e aplicar a função preprocessText para: remover pontuação, converter para minúsculas, tokenizar, remover stopwords (Português) e dígitos. Gerar a coluna texto_pre. |\n",
        "| 5 Vetorização N-grams | Instanciar CountVectorizer com ngram_range=(1,3). Ajustar/Transformar texto_pre para criar a matriz de recursos X. Imprimir o X.shape. |\n",
        "| 6 Divisão dos Dados | Usar train_test_split (20% para teste, random_state=42) para separar os dados. Imprimir os shapes dos conjuntos de treino e teste. |\n",
        "| 7 Treinamento Naive-Bayes | Instanciar e treinar (fit) o modelo MultinomialNB(). Imprimir a acurácia de treino e teste. |\n",
        "| 8 Avaliação Completa | Gerar o classification_report. Plotar o confusion_matrix como um heatmap (seaborn) para visualização da performance por classe. |\n",
        "| 9 Teste Manual (Demo) | Criar e rodar uma função interativa (input()) que: processa o texto do usuário, vetoriza, prevê a classe e exibe o resultado final com o nível de confiança (predict_proba). |\n",
        "\n",
        "**Foco na Avaliação (Criatividade e Documentação)**\n",
        "\n",
        "- Documentação: Cada seção deve ter um breve cabeçalho em Markdown explicando o propósito da etapa.\n",
        "- Análise: Inclua comentários (em Markdown ou código) sobre o volume de dados perdido (Etapa 2), o balanceamento das classes (Etapa 3), e a interpretação dos resultados do classification_report (Etapa 8).\n",
        "- Teste Criativo: Crie 5 exemplos de frases distintas para demonstrar o funcionamento e os limites do modelo na Etapa 9.\n",
        "\n",
        "\n"
      ]
    },
    {
      "cell_type": "markdown",
      "metadata": {
        "id": "c89fd7bb"
      },
      "source": [
        "# Task\n",
        "Create a Python notebook to perform sentiment analysis on product reviews using a Multinomial Naive-Bayes model. The notebook should follow the provided 9-step plan, including data loading, cleaning, preprocessing, vectorization with N-grams, model training, evaluation with classification report and confusion matrix, and a final manual test function. The dataset to be used is \"B2W-Reviews01.csv\". Ensure the notebook is well-documented and executable."
      ]
    },
    {
      "cell_type": "markdown",
      "metadata": {
        "id": "67c51d14"
      },
      "source": [
        "## Preparation\n",
        "\n",
        "### Subtask:\n",
        "Import necessary libraries and download NLTK resources.\n"
      ]
    },
    {
      "cell_type": "markdown",
      "metadata": {
        "id": "4dda3a10"
      },
      "source": [
        "**Reasoning**:\n",
        "Import the required libraries for data manipulation, natural language processing, machine learning, and visualization, and then download necessary NLTK resources for text processing.\n",
        "\n"
      ]
    },
    {
      "cell_type": "code",
      "execution_count": 8,
      "metadata": {
        "colab": {
          "base_uri": "https://localhost:8080/"
        },
        "id": "298a7b0c",
        "outputId": "1210026a-3617-4e33-ae7f-d74b2201ea1f"
      },
      "outputs": [
        {
          "name": "stderr",
          "output_type": "stream",
          "text": [
            "[nltk_data] Downloading package punkt to /root/nltk_data...\n",
            "[nltk_data]   Package punkt is already up-to-date!\n",
            "[nltk_data] Downloading package stopwords to /root/nltk_data...\n",
            "[nltk_data]   Package stopwords is already up-to-date!\n",
            "[nltk_data] Downloading package punkt_tab to /root/nltk_data...\n",
            "[nltk_data]   Unzipping tokenizers/punkt_tab.zip.\n"
          ]
        },
        {
          "data": {
            "text/plain": [
              "True"
            ]
          },
          "execution_count": 8,
          "metadata": {},
          "output_type": "execute_result"
        }
      ],
      "source": [
        "import pandas as pd\n",
        "import nltk\n",
        "import sklearn\n",
        "import seaborn as sns\n",
        "import matplotlib.pyplot as plt\n",
        "\n",
        "nltk.download('punkt')\n",
        "nltk.download('stopwords')\n",
        "nltk.download('punkt_tab') # Download punkt_tab resource"
      ]
    },
    {
      "cell_type": "markdown",
      "metadata": {
        "id": "a09904c9"
      },
      "source": [
        "## Loading & cleaning\n",
        "\n",
        "### Subtask:\n",
        "Load the dataset and handle missing values.\n"
      ]
    },
    {
      "cell_type": "markdown",
      "metadata": {
        "id": "ff99b635"
      },
      "source": [
        "**Reasoning**:\n",
        "Load the dataframe from the specified CSV file, selecting only the required columns, then remove rows with missing values and print the number of remaining rows.\n",
        "\n"
      ]
    },
    {
      "cell_type": "code",
      "execution_count": 3,
      "metadata": {
        "colab": {
          "base_uri": "https://localhost:8080/"
        },
        "id": "341f6264",
        "outputId": "4b033363-f5e2-4443-b937-e9ff73f6cc92"
      },
      "outputs": [
        {
          "name": "stdout",
          "output_type": "stream",
          "text": [
            "Total remaining reviews after dropping nulls: 129098\n"
          ]
        }
      ],
      "source": [
        "df = pd.read_csv('/content/B2W-Reviews01.csv', usecols=['review_text', 'overall_rating'])\n",
        "df.dropna(inplace=True)\n",
        "print(f\"Total remaining reviews after dropping nulls: {len(df)}\")"
      ]
    },
    {
      "cell_type": "markdown",
      "metadata": {
        "id": "265644af"
      },
      "source": [
        "## Class definition\n",
        "\n",
        "### Subtask:\n",
        "Map ratings to sentiment classes and analyze the distribution.\n"
      ]
    },
    {
      "cell_type": "markdown",
      "metadata": {
        "id": "0e8a4898"
      },
      "source": [
        "**Reasoning**:\n",
        "Define a function to map ratings to sentiment classes, apply it to the DataFrame, and display the class distribution.\n",
        "\n"
      ]
    },
    {
      "cell_type": "code",
      "execution_count": 4,
      "metadata": {
        "colab": {
          "base_uri": "https://localhost:8080/"
        },
        "id": "ddcf9bad",
        "outputId": "b8dc9223-7363-447e-e9bc-565bf5ddf2de"
      },
      "outputs": [
        {
          "name": "stdout",
          "output_type": "stream",
          "text": [
            "Distribution of sentiment classes:\n",
            "sentiment_class\n",
            "1    56123\n",
            "2    47329\n",
            "0    25646\n",
            "Name: count, dtype: int64\n"
          ]
        }
      ],
      "source": [
        "def map_rating_to_sentiment(rating):\n",
        "    if rating == 1:\n",
        "        return 0  # Negative\n",
        "    elif rating in [2, 3, 4]:\n",
        "        return 1  # Neutral\n",
        "    elif rating == 5:\n",
        "        return 2  # Positive\n",
        "    else:\n",
        "        return None # Handle unexpected ratings\n",
        "\n",
        "df['sentiment_class'] = df['overall_rating'].apply(map_rating_to_sentiment)\n",
        "print(\"Distribution of sentiment classes:\")\n",
        "print(df['sentiment_class'].value_counts())"
      ]
    },
    {
      "cell_type": "markdown",
      "metadata": {
        "id": "9658c5b5"
      },
      "source": [
        "**Reasoning**:\n",
        "Add a Markdown cell to analyze the class distribution and note any imbalances.\n",
        "\n"
      ]
    },
    {
      "cell_type": "code",
      "execution_count": 5,
      "metadata": {
        "id": "4e23606d"
      },
      "outputs": [],
      "source": [
        "# Analyze the class distribution\n",
        "# The output shows the counts for each sentiment class:\n",
        "# Class 1 (Neutral) has the highest count (56123), followed by Class 2 (Positive) (47329), and Class 0 (Negative) (25646).\n",
        "# There is an imbalance in the dataset, with significantly fewer negative reviews compared to neutral and positive reviews. This class imbalance should be considered during model training and evaluation."
      ]
    },
    {
      "cell_type": "markdown",
      "metadata": {
        "id": "49cbbd1d"
      },
      "source": [
        "## Preprocessing (nlp)\n",
        "\n",
        "### Subtask:\n",
        "Clean and preprocess the text data.\n"
      ]
    },
    {
      "cell_type": "markdown",
      "metadata": {
        "id": "54e56024"
      },
      "source": [
        "**Reasoning**:\n",
        "Define the preprocessText function and apply it to the review_text column to create the texto_pre column as per the instructions.\n",
        "\n"
      ]
    },
    {
      "cell_type": "code",
      "execution_count": 9,
      "metadata": {
        "colab": {
          "base_uri": "https://localhost:8080/",
          "height": 379
        },
        "id": "6837198d",
        "outputId": "ecaadbe2-1797-4574-abd6-cd836a4ca91a"
      },
      "outputs": [
        {
          "data": {
            "application/vnd.google.colaboratory.intrinsic+json": {
              "summary": "{\n  \"name\": \"display(df[['review_text', 'texto_pre']]\",\n  \"rows\": 5,\n  \"fields\": [\n    {\n      \"column\": \"review_text\",\n      \"properties\": {\n        \"dtype\": \"string\",\n        \"num_unique_values\": 5,\n        \"samples\": [\n          \"Por apenas R$1994.20,eu consegui comprar esse lindo copo de acr\\u00edlico.\",\n          \"A entrega foi no prazo, as americanas est\\u00e3o de parab\\u00e9ns. A smart tv \\u00e9 muito boa, a navega\\u00e7\\u00e3o na internete e pelos aplicativos e excelente, n\\u00e3o trava, sem falar da imagem que \\u00e9 de surpreender. recomendo.\",\n          \"SUPERA EM AGILIDADE E PRATICIDADE OUTRAS PANELAS EL\\u00c9TRICAS.  COSTUMO USAR OUTRA PANELA PARA COZIMENTO DE ARROZ (JAPONESA), MAS LEVA MUITO TEMPO,  +/- 50 MINUTOS.  NESSA PANELA  \\u00c9 MUITO MAIS R\\u00c1PIDO, EXATAMENTE 6 MINUTOS.    EU RECOMENDO.\"\n        ],\n        \"semantic_type\": \"\",\n        \"description\": \"\"\n      }\n    },\n    {\n      \"column\": \"texto_pre\",\n      \"properties\": {\n        \"dtype\": \"string\",\n        \"num_unique_values\": 5,\n        \"samples\": [\n          \"apenas r199420eu consegui comprar lindo copo acr\\u00edlico\",\n          \"entrega prazo americanas parab\\u00e9ns smart tv boa navega\\u00e7\\u00e3o internete aplicativos excelente trava falar imagem surpreender recomendo\",\n          \"supera agilidade praticidade outras panelas el\\u00e9tricas costumo usar outra panela cozimento arroz japonesa leva tempo minutos nessa panela r\\u00e1pido exatamente minutos recomendo\"\n        ],\n        \"semantic_type\": \"\",\n        \"description\": \"\"\n      }\n    }\n  ]\n}",
              "type": "dataframe"
            },
            "text/html": [
              "\n",
              "  <div id=\"df-3a215573-96de-4dc8-b8b7-e36d80aa5d09\" class=\"colab-df-container\">\n",
              "    <div>\n",
              "<style scoped>\n",
              "    .dataframe tbody tr th:only-of-type {\n",
              "        vertical-align: middle;\n",
              "    }\n",
              "\n",
              "    .dataframe tbody tr th {\n",
              "        vertical-align: top;\n",
              "    }\n",
              "\n",
              "    .dataframe thead th {\n",
              "        text-align: right;\n",
              "    }\n",
              "</style>\n",
              "<table border=\"1\" class=\"dataframe\">\n",
              "  <thead>\n",
              "    <tr style=\"text-align: right;\">\n",
              "      <th></th>\n",
              "      <th>review_text</th>\n",
              "      <th>texto_pre</th>\n",
              "    </tr>\n",
              "  </thead>\n",
              "  <tbody>\n",
              "    <tr>\n",
              "      <th>0</th>\n",
              "      <td>Estou contente com a compra entrega rápida o ú...</td>\n",
              "      <td>contente compra entrega rápida único problema ...</td>\n",
              "    </tr>\n",
              "    <tr>\n",
              "      <th>1</th>\n",
              "      <td>Por apenas R$1994.20,eu consegui comprar esse ...</td>\n",
              "      <td>apenas r199420eu consegui comprar lindo copo a...</td>\n",
              "    </tr>\n",
              "    <tr>\n",
              "      <th>2</th>\n",
              "      <td>SUPERA EM AGILIDADE E PRATICIDADE OUTRAS PANEL...</td>\n",
              "      <td>supera agilidade praticidade outras panelas el...</td>\n",
              "    </tr>\n",
              "    <tr>\n",
              "      <th>3</th>\n",
              "      <td>MEU FILHO AMOU! PARECE DE VERDADE COM TANTOS D...</td>\n",
              "      <td>filho amou parece verdade tantos detalhes têm</td>\n",
              "    </tr>\n",
              "    <tr>\n",
              "      <th>4</th>\n",
              "      <td>A entrega foi no prazo, as americanas estão de...</td>\n",
              "      <td>entrega prazo americanas parabéns smart tv boa...</td>\n",
              "    </tr>\n",
              "  </tbody>\n",
              "</table>\n",
              "</div>\n",
              "    <div class=\"colab-df-buttons\">\n",
              "\n",
              "  <div class=\"colab-df-container\">\n",
              "    <button class=\"colab-df-convert\" onclick=\"convertToInteractive('df-3a215573-96de-4dc8-b8b7-e36d80aa5d09')\"\n",
              "            title=\"Convert this dataframe to an interactive table.\"\n",
              "            style=\"display:none;\">\n",
              "\n",
              "  <svg xmlns=\"http://www.w3.org/2000/svg\" height=\"24px\" viewBox=\"0 -960 960 960\">\n",
              "    <path d=\"M120-120v-720h720v720H120Zm60-500h600v-160H180v160Zm220 220h160v-160H400v160Zm0 220h160v-160H400v160ZM180-400h160v-160H180v160Zm440 0h160v-160H620v160ZM180-180h160v-160H180v160Zm440 0h160v-160H620v160Z\"/>\n",
              "  </svg>\n",
              "    </button>\n",
              "\n",
              "  <style>\n",
              "    .colab-df-container {\n",
              "      display:flex;\n",
              "      gap: 12px;\n",
              "    }\n",
              "\n",
              "    .colab-df-convert {\n",
              "      background-color: #E8F0FE;\n",
              "      border: none;\n",
              "      border-radius: 50%;\n",
              "      cursor: pointer;\n",
              "      display: none;\n",
              "      fill: #1967D2;\n",
              "      height: 32px;\n",
              "      padding: 0 0 0 0;\n",
              "      width: 32px;\n",
              "    }\n",
              "\n",
              "    .colab-df-convert:hover {\n",
              "      background-color: #E2EBFA;\n",
              "      box-shadow: 0px 1px 2px rgba(60, 64, 67, 0.3), 0px 1px 3px 1px rgba(60, 64, 67, 0.15);\n",
              "      fill: #174EA6;\n",
              "    }\n",
              "\n",
              "    .colab-df-buttons div {\n",
              "      margin-bottom: 4px;\n",
              "    }\n",
              "\n",
              "    [theme=dark] .colab-df-convert {\n",
              "      background-color: #3B4455;\n",
              "      fill: #D2E3FC;\n",
              "    }\n",
              "\n",
              "    [theme=dark] .colab-df-convert:hover {\n",
              "      background-color: #434B5C;\n",
              "      box-shadow: 0px 1px 3px 1px rgba(0, 0, 0, 0.15);\n",
              "      filter: drop-shadow(0px 1px 2px rgba(0, 0, 0, 0.3));\n",
              "      fill: #FFFFFF;\n",
              "    }\n",
              "  </style>\n",
              "\n",
              "    <script>\n",
              "      const buttonEl =\n",
              "        document.querySelector('#df-3a215573-96de-4dc8-b8b7-e36d80aa5d09 button.colab-df-convert');\n",
              "      buttonEl.style.display =\n",
              "        google.colab.kernel.accessAllowed ? 'block' : 'none';\n",
              "\n",
              "      async function convertToInteractive(key) {\n",
              "        const element = document.querySelector('#df-3a215573-96de-4dc8-b8b7-e36d80aa5d09');\n",
              "        const dataTable =\n",
              "          await google.colab.kernel.invokeFunction('convertToInteractive',\n",
              "                                                    [key], {});\n",
              "        if (!dataTable) return;\n",
              "\n",
              "        const docLinkHtml = 'Like what you see? Visit the ' +\n",
              "          '<a target=\"_blank\" href=https://colab.research.google.com/notebooks/data_table.ipynb>data table notebook</a>'\n",
              "          + ' to learn more about interactive tables.';\n",
              "        element.innerHTML = '';\n",
              "        dataTable['output_type'] = 'display_data';\n",
              "        await google.colab.output.renderOutput(dataTable, element);\n",
              "        const docLink = document.createElement('div');\n",
              "        docLink.innerHTML = docLinkHtml;\n",
              "        element.appendChild(docLink);\n",
              "      }\n",
              "    </script>\n",
              "  </div>\n",
              "\n",
              "\n",
              "    <div id=\"df-7e783796-9680-4200-873c-d97b5cc065e6\">\n",
              "      <button class=\"colab-df-quickchart\" onclick=\"quickchart('df-7e783796-9680-4200-873c-d97b5cc065e6')\"\n",
              "                title=\"Suggest charts\"\n",
              "                style=\"display:none;\">\n",
              "\n",
              "<svg xmlns=\"http://www.w3.org/2000/svg\" height=\"24px\"viewBox=\"0 0 24 24\"\n",
              "     width=\"24px\">\n",
              "    <g>\n",
              "        <path d=\"M19 3H5c-1.1 0-2 .9-2 2v14c0 1.1.9 2 2 2h14c1.1 0 2-.9 2-2V5c0-1.1-.9-2-2-2zM9 17H7v-7h2v7zm4 0h-2V7h2v10zm4 0h-2v-4h2v4z\"/>\n",
              "    </g>\n",
              "</svg>\n",
              "      </button>\n",
              "\n",
              "<style>\n",
              "  .colab-df-quickchart {\n",
              "      --bg-color: #E8F0FE;\n",
              "      --fill-color: #1967D2;\n",
              "      --hover-bg-color: #E2EBFA;\n",
              "      --hover-fill-color: #174EA6;\n",
              "      --disabled-fill-color: #AAA;\n",
              "      --disabled-bg-color: #DDD;\n",
              "  }\n",
              "\n",
              "  [theme=dark] .colab-df-quickchart {\n",
              "      --bg-color: #3B4455;\n",
              "      --fill-color: #D2E3FC;\n",
              "      --hover-bg-color: #434B5C;\n",
              "      --hover-fill-color: #FFFFFF;\n",
              "      --disabled-bg-color: #3B4455;\n",
              "      --disabled-fill-color: #666;\n",
              "  }\n",
              "\n",
              "  .colab-df-quickchart {\n",
              "    background-color: var(--bg-color);\n",
              "    border: none;\n",
              "    border-radius: 50%;\n",
              "    cursor: pointer;\n",
              "    display: none;\n",
              "    fill: var(--fill-color);\n",
              "    height: 32px;\n",
              "    padding: 0;\n",
              "    width: 32px;\n",
              "  }\n",
              "\n",
              "  .colab-df-quickchart:hover {\n",
              "    background-color: var(--hover-bg-color);\n",
              "    box-shadow: 0 1px 2px rgba(60, 64, 67, 0.3), 0 1px 3px 1px rgba(60, 64, 67, 0.15);\n",
              "    fill: var(--button-hover-fill-color);\n",
              "  }\n",
              "\n",
              "  .colab-df-quickchart-complete:disabled,\n",
              "  .colab-df-quickchart-complete:disabled:hover {\n",
              "    background-color: var(--disabled-bg-color);\n",
              "    fill: var(--disabled-fill-color);\n",
              "    box-shadow: none;\n",
              "  }\n",
              "\n",
              "  .colab-df-spinner {\n",
              "    border: 2px solid var(--fill-color);\n",
              "    border-color: transparent;\n",
              "    border-bottom-color: var(--fill-color);\n",
              "    animation:\n",
              "      spin 1s steps(1) infinite;\n",
              "  }\n",
              "\n",
              "  @keyframes spin {\n",
              "    0% {\n",
              "      border-color: transparent;\n",
              "      border-bottom-color: var(--fill-color);\n",
              "      border-left-color: var(--fill-color);\n",
              "    }\n",
              "    20% {\n",
              "      border-color: transparent;\n",
              "      border-left-color: var(--fill-color);\n",
              "      border-top-color: var(--fill-color);\n",
              "    }\n",
              "    30% {\n",
              "      border-color: transparent;\n",
              "      border-left-color: var(--fill-color);\n",
              "      border-top-color: var(--fill-color);\n",
              "      border-right-color: var(--fill-color);\n",
              "    }\n",
              "    40% {\n",
              "      border-color: transparent;\n",
              "      border-right-color: var(--fill-color);\n",
              "      border-top-color: var(--fill-color);\n",
              "    }\n",
              "    60% {\n",
              "      border-color: transparent;\n",
              "      border-right-color: var(--fill-color);\n",
              "    }\n",
              "    80% {\n",
              "      border-color: transparent;\n",
              "      border-right-color: var(--fill-color);\n",
              "      border-bottom-color: var(--fill-color);\n",
              "    }\n",
              "    90% {\n",
              "      border-color: transparent;\n",
              "      border-bottom-color: var(--fill-color);\n",
              "    }\n",
              "  }\n",
              "</style>\n",
              "\n",
              "      <script>\n",
              "        async function quickchart(key) {\n",
              "          const quickchartButtonEl =\n",
              "            document.querySelector('#' + key + ' button');\n",
              "          quickchartButtonEl.disabled = true;  // To prevent multiple clicks.\n",
              "          quickchartButtonEl.classList.add('colab-df-spinner');\n",
              "          try {\n",
              "            const charts = await google.colab.kernel.invokeFunction(\n",
              "                'suggestCharts', [key], {});\n",
              "          } catch (error) {\n",
              "            console.error('Error during call to suggestCharts:', error);\n",
              "          }\n",
              "          quickchartButtonEl.classList.remove('colab-df-spinner');\n",
              "          quickchartButtonEl.classList.add('colab-df-quickchart-complete');\n",
              "        }\n",
              "        (() => {\n",
              "          let quickchartButtonEl =\n",
              "            document.querySelector('#df-7e783796-9680-4200-873c-d97b5cc065e6 button');\n",
              "          quickchartButtonEl.style.display =\n",
              "            google.colab.kernel.accessAllowed ? 'block' : 'none';\n",
              "        })();\n",
              "      </script>\n",
              "    </div>\n",
              "\n",
              "    </div>\n",
              "  </div>\n"
            ],
            "text/plain": [
              "                                         review_text  \\\n",
              "0  Estou contente com a compra entrega rápida o ú...   \n",
              "1  Por apenas R$1994.20,eu consegui comprar esse ...   \n",
              "2  SUPERA EM AGILIDADE E PRATICIDADE OUTRAS PANEL...   \n",
              "3  MEU FILHO AMOU! PARECE DE VERDADE COM TANTOS D...   \n",
              "4  A entrega foi no prazo, as americanas estão de...   \n",
              "\n",
              "                                           texto_pre  \n",
              "0  contente compra entrega rápida único problema ...  \n",
              "1  apenas r199420eu consegui comprar lindo copo a...  \n",
              "2  supera agilidade praticidade outras panelas el...  \n",
              "3      filho amou parece verdade tantos detalhes têm  \n",
              "4  entrega prazo americanas parabéns smart tv boa...  "
            ]
          },
          "metadata": {},
          "output_type": "display_data"
        }
      ],
      "source": [
        "import string\n",
        "from nltk.corpus import stopwords\n",
        "from nltk.tokenize import word_tokenize\n",
        "import nltk\n",
        "\n",
        "# Download the Portuguese punkt tokenizer\n",
        "nltk.download('punkt', quiet=True)\n",
        "\n",
        "def preprocessText(text):\n",
        "    # Remove punctuation\n",
        "    text = text.translate(str.maketrans('', '', string.punctuation))\n",
        "    # Convert to lowercase\n",
        "    text = text.lower()\n",
        "    # Tokenize (specify Portuguese language)\n",
        "    tokens = word_tokenize(text, language='portuguese')\n",
        "    # Remove Portuguese stopwords and digits\n",
        "    stopwords_portuguese = set(stopwords.words('portuguese'))\n",
        "    processed_tokens = [word for word in tokens if word not in stopwords_portuguese and not word.isdigit()]\n",
        "    # Join tokens back into a string\n",
        "    return ' '.join(processed_tokens)\n",
        "\n",
        "df['texto_pre'] = df['review_text'].apply(preprocessText)\n",
        "display(df[['review_text', 'texto_pre']].head())"
      ]
    },
    {
      "cell_type": "markdown",
      "metadata": {
        "id": "2b07647f"
      },
      "source": [
        "## Manual Test (Demo)\n",
        "\n",
        "### Subtask:\n",
        "Create and run an interactive function for manual testing with user input."
      ]
    },
    {
      "cell_type": "markdown",
      "metadata": {
        "id": "8a121366"
      },
      "source": [
        "**Reasoning**:\n",
        "Create an interactive function that takes user input, preprocesses and vectorizes the text, predicts the sentiment class and its probability using the trained model, and displays the predicted class and confidence level. Include 5 distinct example sentences to demonstrate the model's operation and limits."
      ]
    },
    {
      "cell_type": "code",
      "execution_count": null,
      "metadata": {
        "colab": {
          "base_uri": "https://localhost:8080/"
        },
        "id": "58c53c3e",
        "outputId": "e256e9ee-8c88-4304-c005-58c19cd1877e"
      },
      "outputs": [
        {
          "name": "stdout",
          "output_type": "stream",
          "text": [
            "Running manual tests with example sentences:\n",
            "Original Text: Este produto é horrível, não funcionou como esperado.\n",
            "Processed Text: produto horrível funcionou esperado\n",
            "Predicted Sentiment Class: 0 (Negative)\n",
            "Confidence Level: 0.8830\n",
            "------------------------------\n",
            "Original Text: O produto é ok, nada de especial.\n",
            "Processed Text: produto ok nada especial\n",
            "Predicted Sentiment Class: 1 (Neutral)\n",
            "Confidence Level: 0.9926\n",
            "------------------------------\n",
            "Original Text: Adorei a compra, chegou rápido e em perfeito estado!\n",
            "Processed Text: adorei compra chegou rápido perfeito estado\n",
            "Predicted Sentiment Class: 2 (Positive)\n",
            "Confidence Level: 0.9999\n",
            "------------------------------\n",
            "Original Text: Não sei se gostei, esperava mais.\n",
            "Processed Text: sei gostei esperava\n",
            "Predicted Sentiment Class: 1 (Neutral)\n",
            "Confidence Level: 0.9456\n",
            "------------------------------\n",
            "Original Text: A embalagem veio danificada, mas o produto está intacto.\n",
            "Processed Text: embalagem veio danificada produto intacto\n",
            "Predicted Sentiment Class: 1 (Neutral)\n",
            "Confidence Level: 0.9937\n",
            "------------------------------\n",
            "\n",
            "Now you can enter your own text for testing (type 'quit' to exit):\n"
          ]
        }
      ],
      "source": [
        "def manual_sentiment_test(text):\n",
        "    # Preprocess the input text\n",
        "    processed_text = preprocessText(text)\n",
        "    # Vectorize the processed text\n",
        "    vectorized_text = vectorizer.transform([processed_text])\n",
        "    # Predict the sentiment class\n",
        "    predicted_class = model.predict(vectorized_text)[0]\n",
        "    # Get the prediction probabilities\n",
        "    prediction_proba = model.predict_proba(vectorized_text)[0]\n",
        "\n",
        "    sentiment_map = {0: 'Negative', 1: 'Neutral', 2: 'Positive'}\n",
        "    predicted_sentiment = sentiment_map[predicted_class]\n",
        "    confidence = prediction_proba[predicted_class]\n",
        "\n",
        "    print(f\"Original Text: {text}\")\n",
        "    print(f\"Processed Text: {processed_text}\")\n",
        "    print(f\"Predicted Sentiment Class: {predicted_class} ({predicted_sentiment})\")\n",
        "    print(f\"Confidence Level: {confidence:.4f}\")\n",
        "    print(\"-\" * 30)\n",
        "\n",
        "# Create 5 distinct example sentences for testing\n",
        "example_sentences = [\n",
        "    \"Este produto é horrível, não funcionou como esperado.\", # Clearly Negative\n",
        "    \"O produto é ok, nada de especial.\", # Neutral\n",
        "    \"Adorei a compra, chegou rápido e em perfeito estado!\", # Clearly Positive\n",
        "    \"Não sei se gostei, esperava mais.\", # Ambiguous/Slightly Negative\n",
        "    \"A embalagem veio danificada, mas o produto está intacto.\" # Mixed sentiment\n",
        "]\n",
        "\n",
        "print(\"Running manual tests with example sentences:\")\n",
        "for sentence in example_sentences:\n",
        "    manual_sentiment_test(sentence)\n",
        "\n",
        "print(\"\\nNow you can enter your own text for testing (type 'quit' to exit):\")\n",
        "while True:\n",
        "    user_input = input(\"Enter text: \")\n",
        "    if user_input.lower() == 'quit':\n",
        "        break\n",
        "    manual_sentiment_test(user_input)"
      ]
    },
    {
      "cell_type": "markdown",
      "metadata": {
        "id": "4a2aff78"
      },
      "source": [
        "### Class Distribution Visualization\n",
        "\n",
        "**Reasoning**:\n",
        "Visualize the distribution of sentiment classes using a bar plot to better understand the class imbalance."
      ]
    },
    {
      "cell_type": "code",
      "execution_count": 15,
      "metadata": {
        "colab": {
          "base_uri": "https://localhost:8080/",
          "height": 457
        },
        "id": "e8f7fb31",
        "outputId": "f5902c41-592f-444f-ecab-45f0b567975d"
      },
      "outputs": [
        {
          "name": "stderr",
          "output_type": "stream",
          "text": [
            "/tmp/ipython-input-121803849.py:2: FutureWarning: \n",
            "\n",
            "Passing `palette` without assigning `hue` is deprecated and will be removed in v0.14.0. Assign the `x` variable to `hue` and set `legend=False` for the same effect.\n",
            "\n",
            "  sns.countplot(x='sentiment_class', data=df, palette='viridis')\n"
          ]
        },
        {
          "data": {
            "image/png": "[encoded data removed]",
            "text/plain": [
              "<Figure size 800x600 with 1 Axes>"
            ]
          },
          "metadata": {},
          "output_type": "display_data"
        }
      ],
      "source": [
        "plt.figure(figsize=(8, 6))\n",
        "sns.countplot(x='sentiment_class', data=df, palette='viridis')\n",
        "plt.title('Distribution of Sentiment Classes')\n",
        "plt.xlabel('Sentiment Class (0: Negative, 1: Neutral, 2: Positive)')\n",
        "plt.ylabel('Number of Reviews')\n",
        "plt.xticks([0, 1, 2], ['Negative (0)', 'Neutral (1)', 'Positive (2)'])\n",
        "plt.show()"
      ]
    },
    {
      "cell_type": "markdown",
      "metadata": {
        "id": "5ddcf7a3"
      },
      "source": [
        "**Análise do Relatório de Classificação e Matriz de Confusão:**\n",
        "\n",
        "O relatório de classificação e a matriz de confusão fornecem insights sobre o desempenho do modelo:\n",
        "\n",
        "*   **Relatório de Classificação:**\n",
        "    *   **Precisão (Precision):** Para a classe Negativa (0), a precisão é de 0.76, indicando que quando o modelo prevê um review como negativo, ele está correto 76% das vezes. Para a classe Neutra (1), a precisão é de 0.68, e para a Positiva (2), é de 0.66.\n",
        "    *   **Recall (Revocação):** Para a classe Negativa (0), o recall é de 0.83, significando que o modelo identifica 83% de todos os reviews negativos reais. Para a classe Neutra (1), o recall é de 0.57, e para a Positiva (2), é de 0.74.\n",
        "    *   **F1-score:** O F1-score é a média harmônica da precisão e recall, fornecendo um equilíbrio entre as duas métricas. As classes Negativa (0) e Positiva (2) têm F1-scores mais altos (0.79 e 0.70, respectivamente) em comparação com a classe Neutra (1) (0.62).\n",
        "    *   **Acurácia (Accuracy):** A acurácia geral do modelo é de 0.68.\n",
        "    *   **Macro Avg e Weighted Avg:** A média macro (macro avg) calcula a média das métricas por classe sem levar em conta o desbalanceamento das classes. A média ponderada (weighted avg) considera o número de instâncias em cada classe.\n",
        "\n",
        "*   **Matriz de Confusão:**\n",
        "    *   A diagonal principal da matriz mostra o número de previsões corretas para cada classe.\n",
        "    *   Os valores fora da diagonal principal representam as previsões incorretas (erros de classificação).\n",
        "    *   É possível observar que a classe Neutra (1) tem um número significativo de falsos negativos (classificados como Negativo) e falsos positivos (classificados como Positivo), o que contribui para seu recall e F1-score mais baixos em comparação com as outras classes.\n",
        "    *   A classe Negativa (0) tem um bom recall, mas uma precisão ligeiramente menor, indicando que alguns reviews não negativos estão sendo classificados incorretamente como negativos.\n",
        "    *   A classe Positiva (2) tem um bom recall e precisão razoável.\n",
        "\n",
        "**Análise do Balanceamento das Classes (Observado na Etapa 3):**\n",
        "\n",
        "Conforme observado na Etapa 3, o dataset apresenta um desbalanceamento significativo nas classes, com a classe Neutra (1) e Positiva (2) tendo consideravelmente mais exemplos do que a classe Negativa (0). Este desbalanceamento pode influenciar o desempenho do modelo, especialmente para a classe minoritária (Negativa). O modelo pode ter uma tendência a prever as classes majoritárias com mais frequência. As métricas do relatório de classificação (precisão, recall e F1-score por classe) são essenciais para entender o desempenho do modelo em cada classe, apesar do desbalanceamento geral."
      ]
    },
    {
      "cell_type": "markdown",
      "metadata": {
        "id": "27897bc2"
      },
      "source": [
        "## Complete Evaluation\n",
        "\n",
        "### Subtask:\n",
        "Generate classification_report and plot confusion_matrix as a heatmap."
      ]
    },
    {
      "cell_type": "markdown",
      "metadata": {
        "id": "9970e9e1"
      },
      "source": [
        "**Reasoning**:\n",
        "Generate the `classification_report` to get precision, recall, and f1-score for each class. Calculate the `confusion_matrix` to understand the model's performance across different classes. Plot the confusion matrix as a heatmap using `seaborn` for better visualization."
      ]
    },
    {
      "cell_type": "code",
      "execution_count": 14,
      "metadata": {
        "colab": {
          "base_uri": "https://localhost:8080/",
          "height": 589
        },
        "id": "d52d52af",
        "outputId": "ffb2c2da-81b2-4a53-a22d-4bea2abc058e"
      },
      "outputs": [
        {
          "name": "stdout",
          "output_type": "stream",
          "text": [
            "Classification Report:\n",
            "              precision    recall  f1-score   support\n",
            "\n",
            "           0       0.76      0.83      0.79      5186\n",
            "           1       0.68      0.57      0.62     11150\n",
            "           2       0.66      0.74      0.70      9484\n",
            "\n",
            "    accuracy                           0.68     25820\n",
            "   macro avg       0.70      0.71      0.70     25820\n",
            "weighted avg       0.68      0.68      0.68     25820\n",
            "\n"
          ]
        },
        {
          "data": {
            "image/png": "[encoded data removed]",
            "text/plain": [
              "<Figure size 800x600 with 2 Axes>"
            ]
          },
          "metadata": {},
          "output_type": "display_data"
        }
      ],
      "source": [
        "from sklearn.metrics import classification_report, confusion_matrix\n",
        "import seaborn as sns\n",
        "import matplotlib.pyplot as plt\n",
        "\n",
        "# Generate classification report\n",
        "y_pred = model.predict(X_test)\n",
        "print(\"Classification Report:\")\n",
        "print(classification_report(y_test, y_pred))\n",
        "\n",
        "# Generate and plot confusion matrix\n",
        "cm = confusion_matrix(y_test, y_pred)\n",
        "plt.figure(figsize=(8, 6))\n",
        "sns.heatmap(cm, annot=True, fmt='d', cmap='Blues', xticklabels=['Negative (0)', 'Neutral (1)', 'Positive (2)'], yticklabels=['Negative (0)', 'Neutral (1)', 'Positive (2)'])\n",
        "plt.xlabel('Predicted')\n",
        "plt.ylabel('Actual')\n",
        "plt.title('Confusion Matrix')\n",
        "plt.show()"
      ]
    },
    {
      "cell_type": "markdown",
      "metadata": {
        "id": "18ca13d8"
      },
      "source": [
        "## Naive-Bayes Training\n",
        "\n",
        "### Subtask:\n",
        "Instantiate and train the MultinomialNB() model and print train and test accuracy."
      ]
    },
    {
      "cell_type": "markdown",
      "metadata": {
        "id": "f83d7349"
      },
      "source": [
        "**Reasoning**:\n",
        "Instantiate the `MultinomialNB` model. Train the model using the training data (`X_train`, `y_train`). Calculate and print the training accuracy using `model.score(X_train, y_train)`. Calculate and print the testing accuracy using `model.score(X_test, y_test)`."
      ]
    },
    {
      "cell_type": "code",
      "execution_count": 13,
      "metadata": {
        "colab": {
          "base_uri": "https://localhost:8080/"
        },
        "id": "92092806",
        "outputId": "b6d1006a-e912-45f8-81ce-80a5757013a4"
      },
      "outputs": [
        {
          "name": "stdout",
          "output_type": "stream",
          "text": [
            "Training Accuracy: 0.9265\n",
            "Testing Accuracy: 0.6849\n"
          ]
        }
      ],
      "source": [
        "from sklearn.naive_bayes import MultinomialNB\n",
        "from sklearn.metrics import accuracy_score\n",
        "\n",
        "# Instantiate and train the MultinomialNB model\n",
        "model = MultinomialNB()\n",
        "model.fit(X_train, y_train)\n",
        "\n",
        "# Print train and test accuracy\n",
        "train_accuracy = model.score(X_train, y_train)\n",
        "test_accuracy = model.score(X_test, y_test)\n",
        "\n",
        "print(f\"Training Accuracy: {train_accuracy:.4f}\")\n",
        "print(f\"Testing Accuracy: {test_accuracy:.4f}\")"
      ]
    },
    {
      "cell_type": "markdown",
      "metadata": {
        "id": "f0626a02"
      },
      "source": [
        "## Data Split\n",
        "\n",
        "### Subtask:\n",
        "Split the data into training and testing sets."
      ]
    },
    {
      "cell_type": "markdown",
      "metadata": {
        "id": "14480978"
      },
      "source": [
        "**Reasoning**:\n",
        "Use `train_test_split` to split the feature matrix `X` and the target variable `df['sentiment_class']` into 80% for training and 20% for testing, using a `random_state` of 42 for reproducibility. Print the shapes of the resulting training and testing sets."
      ]
    },
    {
      "cell_type": "code",
      "execution_count": 12,
      "metadata": {
        "colab": {
          "base_uri": "https://localhost:8080/"
        },
        "id": "d43ad061",
        "outputId": "c7a4e3cd-3d9b-44d0-c775-645c334dffdb"
      },
      "outputs": [
        {
          "name": "stdout",
          "output_type": "stream",
          "text": [
            "Shape of X_train: (103278, 1908751)\n",
            "Shape of X_test: (25820, 1908751)\n",
            "Shape of y_train: (103278,)\n",
            "Shape of y_test: (25820,)\n"
          ]
        }
      ],
      "source": [
        "from sklearn.model_selection import train_test_split\n",
        "\n",
        "y = df['sentiment_class']\n",
        "X_train, X_test, y_train, y_test = train_test_split(X, y, test_size=0.2, random_state=42)\n",
        "\n",
        "print(\"Shape of X_train:\", X_train.shape)\n",
        "print(\"Shape of X_test:\", X_test.shape)\n",
        "print(\"Shape of y_train:\", y_train.shape)\n",
        "print(\"Shape of y_test:\", y_test.shape)"
      ]
    },
    {
      "cell_type": "markdown",
      "metadata": {
        "id": "f52bf3e8"
      },
      "source": [
        "**Reasoning**:\n",
        "Fit and transform the `texto_pre` column using the instantiated `CountVectorizer` to create the feature matrix `X`, and print its shape."
      ]
    },
    {
      "cell_type": "code",
      "execution_count": 11,
      "metadata": {
        "colab": {
          "base_uri": "https://localhost:8080/"
        },
        "id": "2b721d1a",
        "outputId": "c40c1e09-a249-41a7-83cd-30d883b7571a"
      },
      "outputs": [
        {
          "name": "stdout",
          "output_type": "stream",
          "text": [
            "Shape of the feature matrix X: (129098, 1908751)\n"
          ]
        }
      ],
      "source": [
        "X = vectorizer.fit_transform(df['texto_pre'])\n",
        "\n",
        "print(\"Shape of the feature matrix X:\", X.shape)"
      ]
    },
    {
      "cell_type": "markdown",
      "metadata": {
        "id": "81aee865"
      },
      "source": [
        "## N-gram Vectorization\n",
        "\n",
        "### Subtask:\n",
        "Instantiate CountVectorizer with ngram_range=(1,3)."
      ]
    },
    {
      "cell_type": "markdown",
      "metadata": {
        "id": "fe08b55f"
      },
      "source": [
        "**Reasoning**:\n",
        "Instantiate `CountVectorizer` with an `ngram_range` of (1,3)."
      ]
    },
    {
      "cell_type": "code",
      "execution_count": 10,
      "metadata": {
        "id": "6304757e"
      },
      "outputs": [],
      "source": [
        "from sklearn.feature_extraction.text import CountVectorizer\n",
        "\n",
        "vectorizer = CountVectorizer(ngram_range=(1, 3))"
      ]
    },
    {
      "cell_type": "markdown",
      "metadata": {
        "id": "88cb5e82"
      },
      "source": [
        "**Reasoning**:\n",
        "The previous command failed because the 'punkt_tab' resource was not found by NLTK. Although 'punkt' was downloaded in a previous step, the error message specifically requests 'punkt_tab'. I will download this resource and try applying the preprocessText function again.\n",
        "\n"
      ]
    }
  ],
  "metadata": {
    "colab": {
      "cell_execution_strategy": "setup",
      "provenance": []
    },
    "kernelspec": {
      "display_name": "Python 3",
      "name": "python3"
    },
    "language_info": {
      "name": "python"
    }
  },
  "nbformat": 4,
  "nbformat_minor": 0
}
